{
  "nbformat": 4,
  "nbformat_minor": 0,
  "metadata": {
    "colab": {
      "provenance": [],
      "authorship_tag": "ABX9TyMrd/G2z8OYBrrG4Bl/lYcW",
      "include_colab_link": true
    },
    "kernelspec": {
      "name": "python3",
      "display_name": "Python 3"
    },
    "language_info": {
      "name": "python"
    }
  },
  "cells": [
    {
      "cell_type": "markdown",
      "metadata": {
        "id": "view-in-github",
        "colab_type": "text"
      },
      "source": [
        "<a href=\"https://colab.research.google.com/github/Archisha-Dhyani/Learning_ML/blob/main/Perceptron.ipynb\" target=\"_parent\"><img src=\"https://colab.research.google.com/assets/colab-badge.svg\" alt=\"Open In Colab\"/></a>"
      ]
    },
    {
      "cell_type": "code",
      "execution_count": 5,
      "metadata": {
        "id": "yebHhfi9W-9X"
      },
      "outputs": [],
      "source": [
        "import numpy as np\n",
        "import random"
      ]
    },
    {
      "cell_type": "code",
      "source": [
        "#normalization function (sigmoid)\n",
        "def sigmoid(x):\n",
        "  return 1/(1+np.exp(-x))\n",
        "\n",
        "def sigmoid_derivative(x):\n",
        "    return x*(1-x)"
      ],
      "metadata": {
        "id": "_dMxXp9oXWg2"
      },
      "execution_count": 17,
      "outputs": []
    },
    {
      "cell_type": "code",
      "source": [
        "training_inputs = np.array([[0,0,0],\n",
        "                          [1,1,1],\n",
        "                          [1,0,1],\n",
        "                          [0,1,1]\n",
        "                          ])\n",
        "\n",
        "training_outputs = np.array([[0,1,1,0]]).T"
      ],
      "metadata": {
        "id": "CvwqA_UBXZkl"
      },
      "execution_count": 14,
      "outputs": []
    },
    {
      "cell_type": "code",
      "source": [
        "np.random.seed(1)\n",
        "\n",
        "synaptic_weights = 2*np.random.random((3,1))-1\n",
        "print('Random starting synaptic weights: ', synaptic_weights)"
      ],
      "metadata": {
        "colab": {
          "base_uri": "https://localhost:8080/"
        },
        "id": "T8i5x2Z4YTfD",
        "outputId": "f6345b42-cbc8-42d6-a442-ca17d1c62ad7"
      },
      "execution_count": 15,
      "outputs": [
        {
          "output_type": "stream",
          "name": "stdout",
          "text": [
            "Random starting synaptic weights:  [[-0.16595599]\n",
            " [ 0.44064899]\n",
            " [-0.99977125]]\n"
          ]
        }
      ]
    },
    {
      "cell_type": "code",
      "source": [
        "for iteration in range(10000):\n",
        "\n",
        "  input_layer = training_inputs\n",
        "\n",
        "  outputs = sigmoid(np.dot(input_layer,synaptic_weights))\n",
        "\n",
        "  error = training_outputs- outputs\n",
        "\n",
        "  adjustments = error* sigmoid_derivative(outputs)\n",
        "\n",
        "  synaptic_weights+= np.dot(input_layer.T, adjustments)\n",
        "\n",
        "print(\"Synaptic weights after training \", synaptic_weights)\n",
        "\n",
        "print(\"output after traning \")\n",
        "print(outputs)"
      ],
      "metadata": {
        "colab": {
          "base_uri": "https://localhost:8080/"
        },
        "id": "XXfIK7ZcZGMA",
        "outputId": "76a9d2f2-a37b-476b-beed-2ecdec219d38"
      },
      "execution_count": 19,
      "outputs": [
        {
          "output_type": "stream",
          "name": "stdout",
          "text": [
            "Synaptic weights after training  [[ 9.04601059]\n",
            " [-2.45555936]\n",
            " [-2.00947888]]\n",
            "output after traning \n",
            "[[0.5       ]\n",
            " [0.98985845]\n",
            " [0.99912153]\n",
            " [0.01137399]]\n"
          ]
        }
      ]
    },
    {
      "cell_type": "code",
      "source": [],
      "metadata": {
        "id": "X2HJqvbebQEm"
      },
      "execution_count": null,
      "outputs": []
    }
  ]
}