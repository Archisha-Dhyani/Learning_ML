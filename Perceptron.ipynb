{
  "nbformat": 4,
  "nbformat_minor": 0,
  "metadata": {
    "colab": {
      "provenance": [],
      "authorship_tag": "ABX9TyNI8KaQ6AHb8eNYm4ErWoxf",
      "include_colab_link": true
    },
    "kernelspec": {
      "name": "python3",
      "display_name": "Python 3"
    },
    "language_info": {
      "name": "python"
    }
  },
  "cells": [
    {
      "cell_type": "markdown",
      "metadata": {
        "id": "view-in-github",
        "colab_type": "text"
      },
      "source": [
        "<a href=\"https://colab.research.google.com/github/Archisha-Dhyani/Learning_ML/blob/main/Perceptron.ipynb\" target=\"_parent\"><img src=\"https://colab.research.google.com/assets/colab-badge.svg\" alt=\"Open In Colab\"/></a>"
      ]
    },
    {
      "cell_type": "code",
      "execution_count": null,
      "metadata": {
        "id": "yebHhfi9W-9X"
      },
      "outputs": [],
      "source": [
        "import numpy as np\n",
        "import random"
      ]
    },
    {
      "cell_type": "code",
      "source": [
        "#normalization function (sigmoid)\n",
        "def sigmoid(x):\n",
        "  return 1/(1+np.exp(-x))\n",
        "\n",
        "def sigmoid_derivative(x):\n",
        "    return x*(1-x)"
      ],
      "metadata": {
        "id": "_dMxXp9oXWg2"
      },
      "execution_count": null,
      "outputs": []
    },
    {
      "cell_type": "code",
      "source": [
        "training_inputs = np.array([[0,0,0],\n",
        "                          [1,1,1],\n",
        "                          [1,0,1],\n",
        "                          [0,1,1]\n",
        "                          ])\n",
        "\n",
        "training_outputs = np.array([[0,1,1,0]]).T"
      ],
      "metadata": {
        "id": "CvwqA_UBXZkl"
      },
      "execution_count": null,
      "outputs": []
    },
    {
      "cell_type": "code",
      "source": [
        "np.random.seed(1)\n",
        "\n",
        "synaptic_weights = 2*np.random.random((3,1))-1\n",
        "print('Random starting synaptic weights: ', synaptic_weights)"
      ],
      "metadata": {
        "colab": {
          "base_uri": "https://localhost:8080/"
        },
        "id": "T8i5x2Z4YTfD",
        "outputId": "70105748-5184-4186-8517-a757021b224a"
      },
      "execution_count": null,
      "outputs": [
        {
          "output_type": "stream",
          "name": "stdout",
          "text": [
            "Random starting synaptic weights:  [[-0.16595599]\n",
            " [ 0.44064899]\n",
            " [-0.99977125]]\n"
          ]
        }
      ]
    },
    {
      "cell_type": "code",
      "source": [
        "for iteration in range(10000):\n",
        "\n",
        "  input_layer = training_inputs\n",
        "\n",
        "  outputs = sigmoid(np.dot(input_layer,synaptic_weights))\n",
        "\n",
        "  error = training_outputs- outputs\n",
        "\n",
        "  adjustments = error* sigmoid_derivative(outputs)\n",
        "\n",
        "  synaptic_weights+= np.dot(input_layer.T, adjustments)\n",
        "\n",
        "print(\"Synaptic weights after training \", synaptic_weights)\n",
        "\n",
        "print(\"output after traning \")\n",
        "print(outputs)"
      ],
      "metadata": {
        "colab": {
          "base_uri": "https://localhost:8080/"
        },
        "id": "XXfIK7ZcZGMA",
        "outputId": "529e493a-2e64-4556-f4af-32f411b6b2d2"
      },
      "execution_count": null,
      "outputs": [
        {
          "output_type": "stream",
          "name": "stdout",
          "text": [
            "Synaptic weights after training  [[ 9.04590801]\n",
            " [-2.45553327]\n",
            " [-2.00945356]]\n",
            "output after traning \n",
            "[[0.5       ]\n",
            " [0.98985794]\n",
            " [0.99912147]\n",
            " [0.01137457]]\n"
          ]
        }
      ]
    },
    {
      "cell_type": "code",
      "source": [
        "user_input = input(\"Enter 3 values (0 or 1) separated by spaces: \")\n",
        "user_values = np.array([int(val) for val in user_input.split()])\n",
        "\n",
        "# Reshape user input to match the shape expected by the dot product\n",
        "user_values = user_values.reshape((1, 3))\n",
        "\n",
        "# Calculate output based on user input and trained synaptic weights\n",
        "user_output = sigmoid(np.dot(user_values, synaptic_weights))\n",
        "\n",
        "rounded_user_output = np.round(user_output)\n",
        "\n",
        "print(\"Output for user input:\")\n",
        "print(rounded_user_output)"
      ],
      "metadata": {
        "id": "X2HJqvbebQEm",
        "colab": {
          "base_uri": "https://localhost:8080/"
        },
        "outputId": "0d898549-d9fc-402a-b711-d95385f9a6e7"
      },
      "execution_count": null,
      "outputs": [
        {
          "output_type": "stream",
          "name": "stdout",
          "text": [
            "Enter 3 values (0 or 1) separated by spaces: 0 1 1\n",
            "Output for user input:\n",
            "[[0.]]\n"
          ]
        }
      ]
    },
    {
      "cell_type": "code",
      "source": [],
      "metadata": {
        "id": "222WhgNbfEsu"
      },
      "execution_count": null,
      "outputs": []
    }
  ]
}