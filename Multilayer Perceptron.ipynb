{
 "cells": [
  {
   "cell_type": "code",
   "execution_count": 21,
   "id": "1a875399",
   "metadata": {},
   "outputs": [],
   "source": [
    "import numpy as np\n",
    "import pandas as pd "
   ]
  },
  {
   "cell_type": "code",
   "execution_count": 22,
   "id": "cc3fe775",
   "metadata": {},
   "outputs": [],
   "source": [
    "df=pd.read_csv('Admission_Predict.csv')"
   ]
  },
  {
   "cell_type": "code",
   "execution_count": 23,
   "id": "ee58bf56",
   "metadata": {},
   "outputs": [
    {
     "name": "stdout",
     "output_type": "stream",
     "text": [
      "(500, 9)\n"
     ]
    }
   ],
   "source": [
    "print(df.shape)"
   ]
  },
  {
   "cell_type": "code",
   "execution_count": 24,
   "id": "5c0f5a58",
   "metadata": {},
   "outputs": [
    {
     "data": {
      "text/html": [
       "<div>\n",
       "<style scoped>\n",
       "    .dataframe tbody tr th:only-of-type {\n",
       "        vertical-align: middle;\n",
       "    }\n",
       "\n",
       "    .dataframe tbody tr th {\n",
       "        vertical-align: top;\n",
       "    }\n",
       "\n",
       "    .dataframe thead th {\n",
       "        text-align: right;\n",
       "    }\n",
       "</style>\n",
       "<table border=\"1\" class=\"dataframe\">\n",
       "  <thead>\n",
       "    <tr style=\"text-align: right;\">\n",
       "      <th></th>\n",
       "      <th>Serial No.</th>\n",
       "      <th>GRE Score</th>\n",
       "      <th>TOEFL Score</th>\n",
       "      <th>University Rating</th>\n",
       "      <th>SOP</th>\n",
       "      <th>LOR</th>\n",
       "      <th>CGPA</th>\n",
       "      <th>Research</th>\n",
       "      <th>Chance of Admit</th>\n",
       "    </tr>\n",
       "  </thead>\n",
       "  <tbody>\n",
       "    <tr>\n",
       "      <th>0</th>\n",
       "      <td>1</td>\n",
       "      <td>337</td>\n",
       "      <td>118</td>\n",
       "      <td>4</td>\n",
       "      <td>4.5</td>\n",
       "      <td>4.5</td>\n",
       "      <td>9.65</td>\n",
       "      <td>1</td>\n",
       "      <td>0.92</td>\n",
       "    </tr>\n",
       "    <tr>\n",
       "      <th>1</th>\n",
       "      <td>2</td>\n",
       "      <td>324</td>\n",
       "      <td>107</td>\n",
       "      <td>4</td>\n",
       "      <td>4.0</td>\n",
       "      <td>4.5</td>\n",
       "      <td>8.87</td>\n",
       "      <td>1</td>\n",
       "      <td>0.76</td>\n",
       "    </tr>\n",
       "    <tr>\n",
       "      <th>2</th>\n",
       "      <td>3</td>\n",
       "      <td>316</td>\n",
       "      <td>104</td>\n",
       "      <td>3</td>\n",
       "      <td>3.0</td>\n",
       "      <td>3.5</td>\n",
       "      <td>8.00</td>\n",
       "      <td>1</td>\n",
       "      <td>0.72</td>\n",
       "    </tr>\n",
       "    <tr>\n",
       "      <th>3</th>\n",
       "      <td>4</td>\n",
       "      <td>322</td>\n",
       "      <td>110</td>\n",
       "      <td>3</td>\n",
       "      <td>3.5</td>\n",
       "      <td>2.5</td>\n",
       "      <td>8.67</td>\n",
       "      <td>1</td>\n",
       "      <td>0.80</td>\n",
       "    </tr>\n",
       "    <tr>\n",
       "      <th>4</th>\n",
       "      <td>5</td>\n",
       "      <td>314</td>\n",
       "      <td>103</td>\n",
       "      <td>2</td>\n",
       "      <td>2.0</td>\n",
       "      <td>3.0</td>\n",
       "      <td>8.21</td>\n",
       "      <td>0</td>\n",
       "      <td>0.65</td>\n",
       "    </tr>\n",
       "  </tbody>\n",
       "</table>\n",
       "</div>"
      ],
      "text/plain": [
       "   Serial No.  GRE Score  TOEFL Score  University Rating  SOP  LOR   CGPA  \\\n",
       "0           1        337          118                  4  4.5   4.5  9.65   \n",
       "1           2        324          107                  4  4.0   4.5  8.87   \n",
       "2           3        316          104                  3  3.0   3.5  8.00   \n",
       "3           4        322          110                  3  3.5   2.5  8.67   \n",
       "4           5        314          103                  2  2.0   3.0  8.21   \n",
       "\n",
       "   Research  Chance of Admit   \n",
       "0         1              0.92  \n",
       "1         1              0.76  \n",
       "2         1              0.72  \n",
       "3         1              0.80  \n",
       "4         0              0.65  "
      ]
     },
     "execution_count": 24,
     "metadata": {},
     "output_type": "execute_result"
    }
   ],
   "source": [
    "df.head()"
   ]
  },
  {
   "cell_type": "code",
   "execution_count": 25,
   "id": "25ba27bb",
   "metadata": {},
   "outputs": [
    {
     "name": "stdout",
     "output_type": "stream",
     "text": [
      "<class 'pandas.core.frame.DataFrame'>\n",
      "RangeIndex: 500 entries, 0 to 499\n",
      "Data columns (total 9 columns):\n",
      " #   Column             Non-Null Count  Dtype  \n",
      "---  ------             --------------  -----  \n",
      " 0   Serial No.         500 non-null    int64  \n",
      " 1   GRE Score          500 non-null    int64  \n",
      " 2   TOEFL Score        500 non-null    int64  \n",
      " 3   University Rating  500 non-null    int64  \n",
      " 4   SOP                500 non-null    float64\n",
      " 5   LOR                500 non-null    float64\n",
      " 6   CGPA               500 non-null    float64\n",
      " 7   Research           500 non-null    int64  \n",
      " 8   Chance of Admit    500 non-null    float64\n",
      "dtypes: float64(4), int64(5)\n",
      "memory usage: 35.3 KB\n"
     ]
    }
   ],
   "source": [
    "df.info() #to check missing value "
   ]
  },
  {
   "cell_type": "code",
   "execution_count": 26,
   "id": "ade6a239",
   "metadata": {},
   "outputs": [
    {
     "data": {
      "text/plain": [
       "0"
      ]
     },
     "execution_count": 26,
     "metadata": {},
     "output_type": "execute_result"
    }
   ],
   "source": [
    "df.duplicated().sum()"
   ]
  },
  {
   "cell_type": "code",
   "execution_count": 27,
   "id": "6ea1c16e",
   "metadata": {},
   "outputs": [],
   "source": [
    "df.drop(columns=['Serial No.'],inplace=True)  \n",
    "# inplace means changes done in original df"
   ]
  },
  {
   "cell_type": "code",
   "execution_count": 28,
   "id": "6cde5e4f",
   "metadata": {},
   "outputs": [
    {
     "data": {
      "text/html": [
       "<div>\n",
       "<style scoped>\n",
       "    .dataframe tbody tr th:only-of-type {\n",
       "        vertical-align: middle;\n",
       "    }\n",
       "\n",
       "    .dataframe tbody tr th {\n",
       "        vertical-align: top;\n",
       "    }\n",
       "\n",
       "    .dataframe thead th {\n",
       "        text-align: right;\n",
       "    }\n",
       "</style>\n",
       "<table border=\"1\" class=\"dataframe\">\n",
       "  <thead>\n",
       "    <tr style=\"text-align: right;\">\n",
       "      <th></th>\n",
       "      <th>GRE Score</th>\n",
       "      <th>TOEFL Score</th>\n",
       "      <th>University Rating</th>\n",
       "      <th>SOP</th>\n",
       "      <th>LOR</th>\n",
       "      <th>CGPA</th>\n",
       "      <th>Research</th>\n",
       "      <th>Chance of Admit</th>\n",
       "    </tr>\n",
       "  </thead>\n",
       "  <tbody>\n",
       "    <tr>\n",
       "      <th>0</th>\n",
       "      <td>337</td>\n",
       "      <td>118</td>\n",
       "      <td>4</td>\n",
       "      <td>4.5</td>\n",
       "      <td>4.5</td>\n",
       "      <td>9.65</td>\n",
       "      <td>1</td>\n",
       "      <td>0.92</td>\n",
       "    </tr>\n",
       "    <tr>\n",
       "      <th>1</th>\n",
       "      <td>324</td>\n",
       "      <td>107</td>\n",
       "      <td>4</td>\n",
       "      <td>4.0</td>\n",
       "      <td>4.5</td>\n",
       "      <td>8.87</td>\n",
       "      <td>1</td>\n",
       "      <td>0.76</td>\n",
       "    </tr>\n",
       "    <tr>\n",
       "      <th>2</th>\n",
       "      <td>316</td>\n",
       "      <td>104</td>\n",
       "      <td>3</td>\n",
       "      <td>3.0</td>\n",
       "      <td>3.5</td>\n",
       "      <td>8.00</td>\n",
       "      <td>1</td>\n",
       "      <td>0.72</td>\n",
       "    </tr>\n",
       "    <tr>\n",
       "      <th>3</th>\n",
       "      <td>322</td>\n",
       "      <td>110</td>\n",
       "      <td>3</td>\n",
       "      <td>3.5</td>\n",
       "      <td>2.5</td>\n",
       "      <td>8.67</td>\n",
       "      <td>1</td>\n",
       "      <td>0.80</td>\n",
       "    </tr>\n",
       "    <tr>\n",
       "      <th>4</th>\n",
       "      <td>314</td>\n",
       "      <td>103</td>\n",
       "      <td>2</td>\n",
       "      <td>2.0</td>\n",
       "      <td>3.0</td>\n",
       "      <td>8.21</td>\n",
       "      <td>0</td>\n",
       "      <td>0.65</td>\n",
       "    </tr>\n",
       "  </tbody>\n",
       "</table>\n",
       "</div>"
      ],
      "text/plain": [
       "   GRE Score  TOEFL Score  University Rating  SOP  LOR   CGPA  Research  \\\n",
       "0        337          118                  4  4.5   4.5  9.65         1   \n",
       "1        324          107                  4  4.0   4.5  8.87         1   \n",
       "2        316          104                  3  3.0   3.5  8.00         1   \n",
       "3        322          110                  3  3.5   2.5  8.67         1   \n",
       "4        314          103                  2  2.0   3.0  8.21         0   \n",
       "\n",
       "   Chance of Admit   \n",
       "0              0.92  \n",
       "1              0.76  \n",
       "2              0.72  \n",
       "3              0.80  \n",
       "4              0.65  "
      ]
     },
     "execution_count": 28,
     "metadata": {},
     "output_type": "execute_result"
    }
   ],
   "source": [
    "df.head()"
   ]
  },
  {
   "cell_type": "code",
   "execution_count": 29,
   "id": "ae24b50b",
   "metadata": {},
   "outputs": [
    {
     "name": "stdout",
     "output_type": "stream",
     "text": [
      "(500, 7) 2 (500,) 1\n"
     ]
    }
   ],
   "source": [
    "x=df.drop(columns=['Chance of Admit '])\n",
    "y=df['Chance of Admit '].values\n",
    "print(x.shape,x.ndim,y.shape,y.ndim)"
   ]
  },
  {
   "cell_type": "code",
   "execution_count": 30,
   "id": "dde9f8bc",
   "metadata": {},
   "outputs": [],
   "source": [
    "from sklearn.model_selection import train_test_split\n",
    "X_train,X_test,y_train,y_test=train_test_split(x,y,test_size=0.2,random_state=9)"
   ]
  },
  {
   "cell_type": "code",
   "execution_count": 32,
   "id": "864f8fdb",
   "metadata": {},
   "outputs": [
    {
     "name": "stdout",
     "output_type": "stream",
     "text": [
      "(400, 7) (100, 7) (400,) (100,)\n",
      "2 2 1 1\n"
     ]
    }
   ],
   "source": [
    "from sklearn.preprocessing import MinMaxScaler\n",
    "scaler=MinMaxScaler()\n",
    "X_train_trf=scaler.fit_transform(X_train)\n",
    "X_test_trf=scaler.transform(X_test)\n",
    "print(X_train_trf.shape,X_test_trf.shape,y_train.shape,y_test.shape)\n",
    "print(X_train_trf.ndim,X_test_trf.ndim,y_train.ndim,y_test.ndim)"
   ]
  },
  {
   "cell_type": "code",
   "execution_count": 33,
   "id": "45f15457",
   "metadata": {},
   "outputs": [],
   "source": [
    "import tensorflow\n",
    "\n",
    "from tensorflow import keras\n",
    "from tensorflow.keras import Sequential \n",
    "from tensorflow.keras.layers import Dense"
   ]
  },
  {
   "cell_type": "code",
   "execution_count": 34,
   "id": "8b9d7020",
   "metadata": {},
   "outputs": [],
   "source": [
    "model =Sequential()"
   ]
  },
  {
   "cell_type": "code",
   "execution_count": 57,
   "id": "3c4aab4e",
   "metadata": {},
   "outputs": [],
   "source": [
    "model.add(Dense(7,activation='relu',input_dim=7)) \n",
    "#to add layers to neural network \n",
    "#no of independant features in df = no of neurons in first layer \n",
    "model.add(Dense(11,activation='sigmoid'))\n",
    "model.add(Dense(6,activation='relu'))\n",
    "model.add(Dense(1,activation='linear'))"
   ]
  },
  {
   "cell_type": "code",
   "execution_count": 58,
   "id": "121e0de1",
   "metadata": {},
   "outputs": [
    {
     "name": "stdout",
     "output_type": "stream",
     "text": [
      "Model: \"sequential\"\n",
      "_________________________________________________________________\n",
      " Layer (type)                Output Shape              Param #   \n",
      "=================================================================\n",
      " dense (Dense)               (None, 7)                 56        \n",
      "                                                                 \n",
      " dense_1 (Dense)             (None, 1)                 8         \n",
      "                                                                 \n",
      " dense_2 (Dense)             (None, 7)                 14        \n",
      "                                                                 \n",
      " dense_3 (Dense)             (None, 11)                88        \n",
      "                                                                 \n",
      " dense_4 (Dense)             (None, 1)                 12        \n",
      "                                                                 \n",
      " dense_5 (Dense)             (None, 7)                 14        \n",
      "                                                                 \n",
      " dense_6 (Dense)             (None, 11)                88        \n",
      "                                                                 \n",
      " dense_7 (Dense)             (None, 6)                 72        \n",
      "                                                                 \n",
      " dense_8 (Dense)             (None, 1)                 7         \n",
      "                                                                 \n",
      "=================================================================\n",
      "Total params: 359 (1.40 KB)\n",
      "Trainable params: 359 (1.40 KB)\n",
      "Non-trainable params: 0 (0.00 Byte)\n",
      "_________________________________________________________________\n"
     ]
    }
   ],
   "source": [
    "model.summary()"
   ]
  },
  {
   "cell_type": "code",
   "execution_count": 59,
   "id": "633a6de2",
   "metadata": {},
   "outputs": [],
   "source": [
    "model.compile(optimizer='Adam',loss='mean_squared_error')"
   ]
  },
  {
   "cell_type": "code",
   "execution_count": 60,
   "id": "aec56e74",
   "metadata": {},
   "outputs": [
    {
     "name": "stdout",
     "output_type": "stream",
     "text": [
      "Epoch 1/100\n",
      "10/10 [==============================] - 2s 28ms/step - loss: 0.2685 - val_loss: 0.2149\n",
      "Epoch 2/100\n",
      "10/10 [==============================] - 0s 7ms/step - loss: 0.1673 - val_loss: 0.1292\n",
      "Epoch 3/100\n",
      "10/10 [==============================] - 0s 7ms/step - loss: 0.0971 - val_loss: 0.0734\n",
      "Epoch 4/100\n",
      "10/10 [==============================] - 0s 9ms/step - loss: 0.0537 - val_loss: 0.0410\n",
      "Epoch 5/100\n",
      "10/10 [==============================] - 0s 7ms/step - loss: 0.0310 - val_loss: 0.0252\n",
      "Epoch 6/100\n",
      "10/10 [==============================] - 0s 7ms/step - loss: 0.0217 - val_loss: 0.0202\n",
      "Epoch 7/100\n",
      "10/10 [==============================] - 0s 7ms/step - loss: 0.0200 - val_loss: 0.0188\n",
      "Epoch 8/100\n",
      "10/10 [==============================] - 0s 9ms/step - loss: 0.0192 - val_loss: 0.0182\n",
      "Epoch 9/100\n",
      "10/10 [==============================] - 0s 11ms/step - loss: 0.0187 - val_loss: 0.0178\n",
      "Epoch 10/100\n",
      "10/10 [==============================] - 0s 6ms/step - loss: 0.0183 - val_loss: 0.0175\n",
      "Epoch 11/100\n",
      "10/10 [==============================] - 0s 7ms/step - loss: 0.0180 - val_loss: 0.0172\n",
      "Epoch 12/100\n",
      "10/10 [==============================] - 0s 7ms/step - loss: 0.0176 - val_loss: 0.0168\n",
      "Epoch 13/100\n",
      "10/10 [==============================] - 0s 7ms/step - loss: 0.0172 - val_loss: 0.0163\n",
      "Epoch 14/100\n",
      "10/10 [==============================] - 0s 11ms/step - loss: 0.0167 - val_loss: 0.0158\n",
      "Epoch 15/100\n",
      "10/10 [==============================] - 0s 17ms/step - loss: 0.0161 - val_loss: 0.0151\n",
      "Epoch 16/100\n",
      "10/10 [==============================] - 0s 14ms/step - loss: 0.0154 - val_loss: 0.0144\n",
      "Epoch 17/100\n",
      "10/10 [==============================] - 0s 6ms/step - loss: 0.0145 - val_loss: 0.0135\n",
      "Epoch 18/100\n",
      "10/10 [==============================] - 0s 7ms/step - loss: 0.0136 - val_loss: 0.0126\n",
      "Epoch 19/100\n",
      "10/10 [==============================] - 0s 18ms/step - loss: 0.0125 - val_loss: 0.0116\n",
      "Epoch 20/100\n",
      "10/10 [==============================] - 0s 11ms/step - loss: 0.0114 - val_loss: 0.0106\n",
      "Epoch 21/100\n",
      "10/10 [==============================] - 0s 8ms/step - loss: 0.0104 - val_loss: 0.0097\n",
      "Epoch 22/100\n",
      "10/10 [==============================] - 0s 8ms/step - loss: 0.0093 - val_loss: 0.0088\n",
      "Epoch 23/100\n",
      "10/10 [==============================] - 0s 9ms/step - loss: 0.0084 - val_loss: 0.0081\n",
      "Epoch 24/100\n",
      "10/10 [==============================] - 0s 11ms/step - loss: 0.0077 - val_loss: 0.0075\n",
      "Epoch 25/100\n",
      "10/10 [==============================] - 0s 17ms/step - loss: 0.0071 - val_loss: 0.0070\n",
      "Epoch 26/100\n",
      "10/10 [==============================] - 0s 15ms/step - loss: 0.0066 - val_loss: 0.0065\n",
      "Epoch 27/100\n",
      "10/10 [==============================] - 0s 10ms/step - loss: 0.0060 - val_loss: 0.0063\n",
      "Epoch 28/100\n",
      "10/10 [==============================] - 0s 7ms/step - loss: 0.0056 - val_loss: 0.0060\n",
      "Epoch 29/100\n",
      "10/10 [==============================] - 0s 7ms/step - loss: 0.0053 - val_loss: 0.0058\n",
      "Epoch 30/100\n",
      "10/10 [==============================] - 0s 17ms/step - loss: 0.0051 - val_loss: 0.0057\n",
      "Epoch 31/100\n",
      "10/10 [==============================] - 0s 15ms/step - loss: 0.0049 - val_loss: 0.0055\n",
      "Epoch 32/100\n",
      "10/10 [==============================] - 0s 12ms/step - loss: 0.0048 - val_loss: 0.0054\n",
      "Epoch 33/100\n",
      "10/10 [==============================] - 0s 7ms/step - loss: 0.0046 - val_loss: 0.0053\n",
      "Epoch 34/100\n",
      "10/10 [==============================] - 0s 9ms/step - loss: 0.0045 - val_loss: 0.0052\n",
      "Epoch 35/100\n",
      "10/10 [==============================] - 0s 18ms/step - loss: 0.0044 - val_loss: 0.0051\n",
      "Epoch 36/100\n",
      "10/10 [==============================] - 0s 16ms/step - loss: 0.0043 - val_loss: 0.0050\n",
      "Epoch 37/100\n",
      "10/10 [==============================] - 0s 10ms/step - loss: 0.0043 - val_loss: 0.0049\n",
      "Epoch 38/100\n",
      "10/10 [==============================] - 0s 8ms/step - loss: 0.0042 - val_loss: 0.0049\n",
      "Epoch 39/100\n",
      "10/10 [==============================] - 0s 8ms/step - loss: 0.0042 - val_loss: 0.0048\n",
      "Epoch 40/100\n",
      "10/10 [==============================] - 0s 19ms/step - loss: 0.0041 - val_loss: 0.0048\n",
      "Epoch 41/100\n",
      "10/10 [==============================] - 0s 15ms/step - loss: 0.0041 - val_loss: 0.0047\n",
      "Epoch 42/100\n",
      "10/10 [==============================] - 0s 24ms/step - loss: 0.0040 - val_loss: 0.0047\n",
      "Epoch 43/100\n",
      "10/10 [==============================] - 0s 13ms/step - loss: 0.0040 - val_loss: 0.0047\n",
      "Epoch 44/100\n",
      "10/10 [==============================] - 0s 9ms/step - loss: 0.0040 - val_loss: 0.0047\n",
      "Epoch 45/100\n",
      "10/10 [==============================] - 0s 8ms/step - loss: 0.0040 - val_loss: 0.0046\n",
      "Epoch 46/100\n",
      "10/10 [==============================] - 0s 7ms/step - loss: 0.0040 - val_loss: 0.0046\n",
      "Epoch 47/100\n",
      "10/10 [==============================] - 0s 9ms/step - loss: 0.0040 - val_loss: 0.0046\n",
      "Epoch 48/100\n",
      "10/10 [==============================] - 0s 7ms/step - loss: 0.0039 - val_loss: 0.0046\n",
      "Epoch 49/100\n",
      "10/10 [==============================] - 0s 13ms/step - loss: 0.0039 - val_loss: 0.0046\n",
      "Epoch 50/100\n",
      "10/10 [==============================] - 0s 18ms/step - loss: 0.0039 - val_loss: 0.0045\n",
      "Epoch 51/100\n",
      "10/10 [==============================] - 0s 15ms/step - loss: 0.0039 - val_loss: 0.0045\n",
      "Epoch 52/100\n",
      "10/10 [==============================] - 0s 9ms/step - loss: 0.0039 - val_loss: 0.0045\n",
      "Epoch 53/100\n",
      "10/10 [==============================] - 0s 9ms/step - loss: 0.0039 - val_loss: 0.0045\n",
      "Epoch 54/100\n",
      "10/10 [==============================] - 0s 11ms/step - loss: 0.0039 - val_loss: 0.0045\n",
      "Epoch 55/100\n",
      "10/10 [==============================] - 0s 19ms/step - loss: 0.0038 - val_loss: 0.0045\n",
      "Epoch 56/100\n",
      "10/10 [==============================] - 0s 13ms/step - loss: 0.0038 - val_loss: 0.0045\n",
      "Epoch 57/100\n",
      "10/10 [==============================] - 0s 8ms/step - loss: 0.0038 - val_loss: 0.0045\n",
      "Epoch 58/100\n",
      "10/10 [==============================] - 0s 8ms/step - loss: 0.0038 - val_loss: 0.0044\n",
      "Epoch 59/100\n",
      "10/10 [==============================] - 0s 10ms/step - loss: 0.0038 - val_loss: 0.0044\n",
      "Epoch 60/100\n",
      "10/10 [==============================] - 0s 15ms/step - loss: 0.0038 - val_loss: 0.0045\n",
      "Epoch 61/100\n",
      "10/10 [==============================] - 0s 15ms/step - loss: 0.0039 - val_loss: 0.0044\n",
      "Epoch 62/100\n",
      "10/10 [==============================] - 0s 19ms/step - loss: 0.0038 - val_loss: 0.0045\n",
      "Epoch 63/100\n",
      "10/10 [==============================] - 0s 15ms/step - loss: 0.0038 - val_loss: 0.0044\n",
      "Epoch 64/100\n",
      "10/10 [==============================] - 0s 10ms/step - loss: 0.0038 - val_loss: 0.0044\n",
      "Epoch 65/100\n",
      "10/10 [==============================] - 0s 9ms/step - loss: 0.0038 - val_loss: 0.0044\n",
      "Epoch 66/100\n",
      "10/10 [==============================] - 0s 9ms/step - loss: 0.0038 - val_loss: 0.0044\n",
      "Epoch 67/100\n",
      "10/10 [==============================] - 0s 8ms/step - loss: 0.0037 - val_loss: 0.0044\n",
      "Epoch 68/100\n",
      "10/10 [==============================] - 0s 6ms/step - loss: 0.0037 - val_loss: 0.0043\n",
      "Epoch 69/100\n",
      "10/10 [==============================] - 0s 13ms/step - loss: 0.0037 - val_loss: 0.0044\n",
      "Epoch 70/100\n",
      "10/10 [==============================] - 0s 13ms/step - loss: 0.0037 - val_loss: 0.0043\n",
      "Epoch 71/100\n",
      "10/10 [==============================] - 0s 11ms/step - loss: 0.0037 - val_loss: 0.0043\n",
      "Epoch 72/100\n",
      "10/10 [==============================] - 0s 8ms/step - loss: 0.0037 - val_loss: 0.0043\n",
      "Epoch 73/100\n",
      "10/10 [==============================] - 0s 8ms/step - loss: 0.0037 - val_loss: 0.0043\n",
      "Epoch 74/100\n",
      "10/10 [==============================] - 0s 8ms/step - loss: 0.0038 - val_loss: 0.0043\n",
      "Epoch 75/100\n",
      "10/10 [==============================] - 0s 8ms/step - loss: 0.0038 - val_loss: 0.0043\n",
      "Epoch 76/100\n",
      "10/10 [==============================] - 0s 7ms/step - loss: 0.0037 - val_loss: 0.0043\n",
      "Epoch 77/100\n",
      "10/10 [==============================] - 0s 6ms/step - loss: 0.0037 - val_loss: 0.0043\n",
      "Epoch 78/100\n",
      "10/10 [==============================] - 0s 8ms/step - loss: 0.0037 - val_loss: 0.0043\n",
      "Epoch 79/100\n",
      "10/10 [==============================] - 0s 7ms/step - loss: 0.0037 - val_loss: 0.0043\n",
      "Epoch 80/100\n",
      "10/10 [==============================] - 0s 8ms/step - loss: 0.0037 - val_loss: 0.0043\n",
      "Epoch 81/100\n",
      "10/10 [==============================] - 0s 6ms/step - loss: 0.0037 - val_loss: 0.0043\n",
      "Epoch 82/100\n"
     ]
    },
    {
     "name": "stdout",
     "output_type": "stream",
     "text": [
      "10/10 [==============================] - 0s 6ms/step - loss: 0.0036 - val_loss: 0.0043\n",
      "Epoch 83/100\n",
      "10/10 [==============================] - 0s 7ms/step - loss: 0.0037 - val_loss: 0.0043\n",
      "Epoch 84/100\n",
      "10/10 [==============================] - 0s 10ms/step - loss: 0.0037 - val_loss: 0.0043\n",
      "Epoch 85/100\n",
      "10/10 [==============================] - 0s 7ms/step - loss: 0.0037 - val_loss: 0.0043\n",
      "Epoch 86/100\n",
      "10/10 [==============================] - 0s 8ms/step - loss: 0.0036 - val_loss: 0.0043\n",
      "Epoch 87/100\n",
      "10/10 [==============================] - 0s 7ms/step - loss: 0.0037 - val_loss: 0.0043\n",
      "Epoch 88/100\n",
      "10/10 [==============================] - 0s 7ms/step - loss: 0.0036 - val_loss: 0.0042\n",
      "Epoch 89/100\n",
      "10/10 [==============================] - 0s 7ms/step - loss: 0.0037 - val_loss: 0.0042\n",
      "Epoch 90/100\n",
      "10/10 [==============================] - 0s 10ms/step - loss: 0.0036 - val_loss: 0.0043\n",
      "Epoch 91/100\n",
      "10/10 [==============================] - 0s 7ms/step - loss: 0.0036 - val_loss: 0.0042\n",
      "Epoch 92/100\n",
      "10/10 [==============================] - 0s 7ms/step - loss: 0.0036 - val_loss: 0.0043\n",
      "Epoch 93/100\n",
      "10/10 [==============================] - 0s 7ms/step - loss: 0.0036 - val_loss: 0.0042\n",
      "Epoch 94/100\n",
      "10/10 [==============================] - 0s 6ms/step - loss: 0.0036 - val_loss: 0.0043\n",
      "Epoch 95/100\n",
      "10/10 [==============================] - 0s 7ms/step - loss: 0.0036 - val_loss: 0.0042\n",
      "Epoch 96/100\n",
      "10/10 [==============================] - 0s 7ms/step - loss: 0.0036 - val_loss: 0.0042\n",
      "Epoch 97/100\n",
      "10/10 [==============================] - 0s 7ms/step - loss: 0.0036 - val_loss: 0.0042\n",
      "Epoch 98/100\n",
      "10/10 [==============================] - 0s 9ms/step - loss: 0.0036 - val_loss: 0.0042\n",
      "Epoch 99/100\n",
      "10/10 [==============================] - 0s 7ms/step - loss: 0.0036 - val_loss: 0.0042\n",
      "Epoch 100/100\n",
      "10/10 [==============================] - 0s 7ms/step - loss: 0.0036 - val_loss: 0.0042\n"
     ]
    }
   ],
   "source": [
    "history=model.fit(X_train_trf,y_train,epochs=100,validation_split=0.2)"
   ]
  },
  {
   "cell_type": "code",
   "execution_count": 51,
   "id": "d1e6a45a",
   "metadata": {},
   "outputs": [
    {
     "data": {
      "text/plain": [
       "[array([[-0.7443915 , -0.01845539, -0.49043828, -0.5981311 ,  0.13367279,\n",
       "         -0.59426296,  0.1473198 ],\n",
       "        [-0.09161546, -0.47110572,  0.21235694,  0.17107941,  0.7983525 ,\n",
       "         -0.08446926,  0.2586573 ],\n",
       "        [ 0.03650828,  0.482447  ,  0.2704083 ,  0.49142268,  0.33001038,\n",
       "         -0.03654621, -0.13410354],\n",
       "        [ 0.5567089 , -0.38115692, -0.25427958, -0.16563372,  0.07754613,\n",
       "         -0.5024592 ,  0.70110124],\n",
       "        [-0.08021622,  0.04314803, -0.17941976,  0.37204456,  0.2923947 ,\n",
       "          0.32755738,  0.24698476],\n",
       "        [ 0.03644732, -0.1276526 , -0.11487726, -0.5693767 ,  0.36018583,\n",
       "          0.04433879,  1.2306293 ],\n",
       "        [-0.6385752 , -0.605635  , -0.41682708, -0.07132155,  0.0507859 ,\n",
       "         -0.20545492,  0.05073189]], dtype=float32),\n",
       " array([ 0.14248183,  0.115066  ,  0.16188526,  0.20298071, -0.08608562,\n",
       "        -0.0141317 , -0.10465836], dtype=float32)]"
      ]
     },
     "execution_count": 51,
     "metadata": {},
     "output_type": "execute_result"
    }
   ],
   "source": [
    "model.layers[0].get_weights()"
   ]
  },
  {
   "cell_type": "code",
   "execution_count": 52,
   "id": "ae7da5ba",
   "metadata": {},
   "outputs": [
    {
     "data": {
      "text/plain": [
       "[array([[-0.5224599 ],\n",
       "        [-0.16095254],\n",
       "        [-0.37479302],\n",
       "        [-0.4969049 ],\n",
       "        [ 1.1421043 ],\n",
       "        [ 0.6936107 ],\n",
       "        [ 0.381325  ]], dtype=float32),\n",
       " array([-0.10350307], dtype=float32)]"
      ]
     },
     "execution_count": 52,
     "metadata": {},
     "output_type": "execute_result"
    }
   ],
   "source": [
    "model.layers[1].get_weights()"
   ]
  },
  {
   "cell_type": "code",
   "execution_count": 53,
   "id": "9f94b982",
   "metadata": {},
   "outputs": [
    {
     "data": {
      "text/plain": [
       "[array([[-0.40103003,  0.61883926, -0.90457195,  0.24601838, -0.72005326,\n",
       "         -0.26800552, -0.48446748]], dtype=float32),\n",
       " array([ 0.09151258, -0.09574611,  0.06156249, -0.03058615, -0.02512904,\n",
       "         0.06235024, -0.02205742], dtype=float32)]"
      ]
     },
     "execution_count": 53,
     "metadata": {},
     "output_type": "execute_result"
    }
   ],
   "source": [
    "model.layers[2].get_weights()"
   ]
  },
  {
   "cell_type": "code",
   "execution_count": 54,
   "id": "453c7b6a",
   "metadata": {},
   "outputs": [
    {
     "name": "stdout",
     "output_type": "stream",
     "text": [
      "4/4 [==============================] - 0s 4ms/step\n"
     ]
    },
    {
     "data": {
      "text/plain": [
       "array([[0.6128713 ],\n",
       "       [0.6436119 ],\n",
       "       [0.6246673 ],\n",
       "       [0.7333922 ],\n",
       "       [0.6719565 ],\n",
       "       [0.72897714],\n",
       "       [0.8969941 ],\n",
       "       [0.6068116 ],\n",
       "       [0.4757219 ],\n",
       "       [0.73140305],\n",
       "       [0.66763556],\n",
       "       [0.62076885],\n",
       "       [0.50513285],\n",
       "       [0.78948927],\n",
       "       [0.68115956],\n",
       "       [0.85137945],\n",
       "       [0.78874767],\n",
       "       [0.6191318 ],\n",
       "       [0.7659996 ],\n",
       "       [0.6141331 ],\n",
       "       [0.8514159 ],\n",
       "       [0.69663125],\n",
       "       [0.52046263],\n",
       "       [0.79418045],\n",
       "       [0.6889552 ],\n",
       "       [0.707688  ],\n",
       "       [0.6430204 ],\n",
       "       [0.9214687 ],\n",
       "       [0.6177377 ],\n",
       "       [0.7921488 ],\n",
       "       [0.7726227 ],\n",
       "       [0.7442092 ],\n",
       "       [0.6457953 ],\n",
       "       [0.65164137],\n",
       "       [0.6185065 ],\n",
       "       [0.8949984 ],\n",
       "       [0.8746362 ],\n",
       "       [0.84803736],\n",
       "       [0.5919521 ],\n",
       "       [0.81793   ],\n",
       "       [0.8881997 ],\n",
       "       [0.6403133 ],\n",
       "       [0.5011244 ],\n",
       "       [0.91498834],\n",
       "       [0.5988227 ],\n",
       "       [0.94178116],\n",
       "       [0.67573225],\n",
       "       [0.8768504 ],\n",
       "       [0.9406654 ],\n",
       "       [0.7284195 ],\n",
       "       [0.64000326],\n",
       "       [0.88796   ],\n",
       "       [0.690088  ],\n",
       "       [0.6352559 ],\n",
       "       [0.7060446 ],\n",
       "       [0.672577  ],\n",
       "       [0.697828  ],\n",
       "       [0.70088094],\n",
       "       [0.88123566],\n",
       "       [0.7472805 ],\n",
       "       [0.86856747],\n",
       "       [0.50000936],\n",
       "       [0.89150804],\n",
       "       [0.5061721 ],\n",
       "       [0.64850295],\n",
       "       [0.8950261 ],\n",
       "       [0.6588999 ],\n",
       "       [0.939809  ],\n",
       "       [0.5491071 ],\n",
       "       [0.711625  ],\n",
       "       [0.50541776],\n",
       "       [0.66091824],\n",
       "       [0.67673576],\n",
       "       [0.5493989 ],\n",
       "       [0.69760245],\n",
       "       [0.9111723 ],\n",
       "       [0.6331698 ],\n",
       "       [0.639105  ],\n",
       "       [0.63632005],\n",
       "       [0.7478142 ],\n",
       "       [0.4861243 ],\n",
       "       [0.744854  ],\n",
       "       [0.61809146],\n",
       "       [0.5224196 ],\n",
       "       [0.8466032 ],\n",
       "       [0.60894793],\n",
       "       [0.5964195 ],\n",
       "       [0.9453171 ],\n",
       "       [0.67887837],\n",
       "       [0.5489828 ],\n",
       "       [0.7884373 ],\n",
       "       [0.856386  ],\n",
       "       [0.84099036],\n",
       "       [0.7202313 ],\n",
       "       [0.62574744],\n",
       "       [0.8810768 ],\n",
       "       [0.90273744],\n",
       "       [0.7331787 ],\n",
       "       [0.48880407],\n",
       "       [0.7874203 ]], dtype=float32)"
      ]
     },
     "execution_count": 54,
     "metadata": {},
     "output_type": "execute_result"
    }
   ],
   "source": [
    "model.predict(X_test_trf)"
   ]
  },
  {
   "cell_type": "code",
   "execution_count": 61,
   "id": "024d98c9",
   "metadata": {},
   "outputs": [
    {
     "name": "stdout",
     "output_type": "stream",
     "text": [
      "4/4 [==============================] - 0s 3ms/step\n"
     ]
    }
   ],
   "source": [
    "y_pred = model.predict(X_test_trf)"
   ]
  },
  {
   "cell_type": "code",
   "execution_count": 63,
   "id": "eadf7688",
   "metadata": {},
   "outputs": [
    {
     "data": {
      "text/plain": [
       "0.8049557233501742"
      ]
     },
     "execution_count": 63,
     "metadata": {},
     "output_type": "execute_result"
    }
   ],
   "source": [
    "from sklearn.metrics import r2_score\n",
    "r2_score(y_test,y_pred)\n",
    " \n"
   ]
  },
  {
   "cell_type": "code",
   "execution_count": 64,
   "id": "b7f28e28",
   "metadata": {},
   "outputs": [
    {
     "name": "stdout",
     "output_type": "stream",
     "text": [
      "{'loss': [0.2684685289859772, 0.1673421859741211, 0.0970587432384491, 0.05370184779167175, 0.030958985909819603, 0.02172512374818325, 0.019952598959207535, 0.01915811374783516, 0.018701501190662384, 0.018280168995261192, 0.0179757010191679, 0.017636949196457863, 0.017179999500513077, 0.016672620549798012, 0.016060128808021545, 0.015352274291217327, 0.014522713609039783, 0.013595586642622948, 0.012464838102459908, 0.011375591158866882, 0.010385114699602127, 0.00933973677456379, 0.008448606356978416, 0.007725330535322428, 0.007081516087055206, 0.0066179754212498665, 0.006030046846717596, 0.005605282727628946, 0.0052865478210151196, 0.005076405592262745, 0.004907494876533747, 0.004770110826939344, 0.004607231821864843, 0.004505869932472706, 0.004396107047796249, 0.00433651078492403, 0.004252371843904257, 0.00423659011721611, 0.004166691098362207, 0.004090583883225918, 0.004085985478013754, 0.004031070973724127, 0.004022064618766308, 0.004005874041467905, 0.004025622271001339, 0.003979293629527092, 0.003963312599807978, 0.0039296336472034454, 0.003936533350497484, 0.0038979281671345234, 0.0038940920494496822, 0.003917297814041376, 0.003868918865919113, 0.003863136051222682, 0.0038476374465972185, 0.003828026819974184, 0.003841075347736478, 0.0038395761512219906, 0.0038317132275551558, 0.003810147289186716, 0.003934786655008793, 0.0037953699938952923, 0.003765621455386281, 0.0037671606987714767, 0.0038259862922132015, 0.003782705869525671, 0.003711054101586342, 0.0037301876582205296, 0.003712175879627466, 0.003695619525387883, 0.0037246730644255877, 0.0036801453679800034, 0.0037298272363841534, 0.0037834052927792072, 0.0038293260149657726, 0.003705183742567897, 0.003661446738988161, 0.0036622299812734127, 0.003670214209705591, 0.003672140184789896, 0.0036504571326076984, 0.00364091363735497, 0.0036659978795796633, 0.0036548501811921597, 0.0036853537894785404, 0.0036472429055720568, 0.0036509695928543806, 0.003628217149525881, 0.003670342732220888, 0.003625632496550679, 0.003613921580836177, 0.003639939008280635, 0.0036170720122754574, 0.0036435953807085752, 0.0035991922486573458, 0.0036092675291001797, 0.00361761380918324, 0.0036087161861360073, 0.0035929731093347073, 0.003607840044423938], 'val_loss': [0.21489019691944122, 0.12915053963661194, 0.07343596965074539, 0.04100630804896355, 0.025184398517012596, 0.020205428823828697, 0.018772704526782036, 0.01821882836520672, 0.017754577100276947, 0.017518946900963783, 0.01720818504691124, 0.01679925248026848, 0.01629919931292534, 0.015772011131048203, 0.015130442567169666, 0.014409569092094898, 0.01353953592479229, 0.012616552412509918, 0.011604325845837593, 0.010606003925204277, 0.0096876947209239, 0.008826352655887604, 0.008056841790676117, 0.0074501680210232735, 0.0069565437734127045, 0.006477523595094681, 0.006252193357795477, 0.005989616271108389, 0.005828807596117258, 0.00567206647247076, 0.005518701393157244, 0.005391332320868969, 0.005258534103631973, 0.005167440976947546, 0.005085745360702276, 0.004990368150174618, 0.00492361094802618, 0.004866757430136204, 0.004811710678040981, 0.0047784484922885895, 0.004748908802866936, 0.004714184440672398, 0.004679887089878321, 0.004663408268243074, 0.00462286826223135, 0.004637350793927908, 0.004597465042024851, 0.004573253449052572, 0.0045555406250059605, 0.004540411289781332, 0.004534064792096615, 0.004506358411163092, 0.00450372276827693, 0.004501049406826496, 0.004479347728192806, 0.004468182567507029, 0.004454552195966244, 0.004439592361450195, 0.004421950317919254, 0.004457799252122641, 0.004402960184961557, 0.0044508809223771095, 0.004384956322610378, 0.004383933264762163, 0.0043770927004516125, 0.004363350570201874, 0.004374892916530371, 0.0043414002284407616, 0.004368573427200317, 0.004325617104768753, 0.0043449364602565765, 0.004326945170760155, 0.0043264031410217285, 0.004317051265388727, 0.004296368919312954, 0.00431157136335969, 0.004304446745663881, 0.0043077669106423855, 0.0042893183417618275, 0.004299805499613285, 0.004290053155273199, 0.004324295558035374, 0.004269943572580814, 0.004264747723937035, 0.004299513529986143, 0.004250688012689352, 0.004261251538991928, 0.004246867261826992, 0.004244453273713589, 0.004253820516169071, 0.004242812283337116, 0.004252722952514887, 0.004237608052790165, 0.00425069872289896, 0.004226298071444035, 0.00422925129532814, 0.00422686617821455, 0.0042289020493626595, 0.004210440907627344, 0.0042152185924351215]}\n"
     ]
    }
   ],
   "source": [
    "print(history.history)"
   ]
  },
  {
   "cell_type": "code",
   "execution_count": 66,
   "id": "deeb82df",
   "metadata": {},
   "outputs": [
    {
     "data": {
      "text/plain": [
       "[<matplotlib.lines.Line2D at 0x27afa857dc0>]"
      ]
     },
     "execution_count": 66,
     "metadata": {},
     "output_type": "execute_result"
    },
    {
     "data": {
      "image/png": "[encoded data removed]",
      "text/plain": [
       "<Figure size 640x480 with 1 Axes>"
      ]
     },
     "metadata": {},
     "output_type": "display_data"
    }
   ],
   "source": [
    "import matplotlib.pyplot as plt\n",
    "plt.plot(history.history['loss'])\n",
    "plt.plot(history.history['val_loss'])"
   ]
  },
  {
   "cell_type": "code",
   "execution_count": null,
   "id": "44d51ca3",
   "metadata": {},
   "outputs": [],
   "source": []
  }
 ],
 "metadata": {
  "kernelspec": {
   "display_name": "Python 3 (ipykernel)",
   "language": "python",
   "name": "python3"
  },
  "language_info": {
   "codemirror_mode": {
    "name": "ipython",
    "version": 3
   },
   "file_extension": ".py",
   "mimetype": "text/x-python",
   "name": "python",
   "nbconvert_exporter": "python",
   "pygments_lexer": "ipython3",
   "version": "3.10.11"
  }
 },
 "nbformat": 4,
 "nbformat_minor": 5
}
